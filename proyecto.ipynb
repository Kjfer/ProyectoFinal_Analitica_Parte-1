{
 "cells": [
  {
   "cell_type": "code",
   "execution_count": null,
   "id": "f7e91fbb",
   "metadata": {},
   "outputs": [
    {
     "ename": "",
     "evalue": "",
     "output_type": "error",
     "traceback": [
      "\u001b[1;31mRunning cells with 'venv (Python 3.13.0)' requires the ipykernel package.\n",
      "\u001b[1;31mInstall 'ipykernel' into the Python environment. \n",
      "\u001b[1;31mCommand: '\"c:/Users/User/OneDrive - UNIVERSIDAD NACIONAL DE INGENIERIA/Documents/CICLOS UNI/CICLO 6/Analitica de datos/Chatbot-con-arduino-PC2/venv/Scripts/python.exe\" -m pip install ipykernel -U --force-reinstall'"
     ]
    }
   ],
   "source": [
    "%pip install pyserial pandas matplotlib"
   ]
  },
  {
   "cell_type": "code",
   "execution_count": 1,
   "id": "e9cfc7e6",
   "metadata": {},
   "outputs": [],
   "source": [
    "#Importaciones y configuración\n",
    "import serial\n",
    "import time\n",
    "import pandas as pd\n",
    "import matplotlib.pyplot as plt\n",
    "from collections import deque\n",
    "from datetime import datetime\n",
    "from IPython.display import clear_output"
   ]
  },
  {
   "cell_type": "code",
   "execution_count": 2,
   "id": "509dee0f",
   "metadata": {},
   "outputs": [
    {
     "name": "stdout",
     "output_type": "stream",
     "text": [
      "🔹 Valor promedio 'wet': 308\n"
     ]
    }
   ],
   "source": [
    "#Calibración de sensor\n",
    "# Lista de valores cuando el sensor está en suelo completamente húmedo (wet)\n",
    "valores_wet = [\n",
    "    355,193,336,417,299,238,352,404,252,247,348,421,324,196,314,374,\n",
    "    362,201,363,203,292,362,379,214,282,362,387,220,283,368,368,185,\n",
    "    327,365,353,183,331,416,283,266,367,340,216,350,388,189,332,419,\n",
    "    267,276,375,334,209,343,419,250,276,378,352,197,340,414,278,256,\n",
    "    348,370,228,346,268,283,322,318,242,297,327,314,239,301,334,304,\n",
    "    251,314,341,248,308,347,263,296,315,328,244,304,342,283,277,324,\n",
    "    304,259,316,313,251,314,324,239,320,321,240,310,346,282,273,321,\n",
    "    313,248,313,336,245,307,347,266,337,388,213,334,389,226,307,401,\n",
    "    303,248,353,360,194,331,412,268,274,368,342,246,341,209,334,403,\n",
    "    260,269,350,348,202,321,384,293,250,343,349,199,337,388\n",
    "]\n",
    "\n",
    "# Cálculo del valor promedio (wet)\n",
    "promedio_wet = round(sum(valores_wet) / len(valores_wet))\n",
    "print(f\"🔹 Valor promedio 'wet': {promedio_wet}\")\n"
   ]
  },
  {
   "cell_type": "code",
   "execution_count": 3,
   "id": "c92a9105",
   "metadata": {},
   "outputs": [],
   "source": [
    "#Definición de funciones auxiliares\n",
    "def iniciar_arduino(puerto='COM7', baudios=9600):\n",
    "    \"\"\"Abre el puerto serie y espera para que Arduino inicie\"\"\"\n",
    "    arduino = serial.Serial(puerto, baudios)\n",
    "    time.sleep(2)\n",
    "    return arduino\n",
    "\n",
    "\n",
    "def leer_valor_crudo(arduino):\n",
    "    \"\"\"Lee una línea del puerto, decodifica y convierte a entero\"\"\"\n",
    "    try:\n",
    "        linea = arduino.readline().decode('utf-8').strip()\n",
    "        return int(linea)\n",
    "    except:\n",
    "        return None\n",
    "\n",
    "\n",
    "def calcular_humedad(valor, wet, dry):\n",
    "    \"\"\"Convierte valor crudo en % de humedad\"\"\"\n",
    "    porcentaje = (valor - wet) * 100 / (dry - wet)\n",
    "    porcentaje = 100 - porcentaje  # invierte escala\n",
    "    return max(0, min(100, round(porcentaje)))"
   ]
  },
  {
   "cell_type": "code",
   "execution_count": 5,
   "id": "d0f9e72e",
   "metadata": {},
   "outputs": [],
   "source": [
    "#Clases para gráfico y guardado\n",
    "class GuardadorCSV:\n",
    "    def __init__(self, archivo='humedad_datos.csv'):\n",
    "        self.datos = []\n",
    "        self.archivo = archivo\n",
    "\n",
    "    def agregar(self, tiempo, humedad):\n",
    "        self.datos.append({'tiempo': tiempo, 'humedad': humedad})\n",
    "\n",
    "    def guardar(self):\n",
    "        df = pd.DataFrame(self.datos)\n",
    "        df.to_csv(self.archivo, index=False)\n",
    "        print(f\"✅ Datos guardados en {self.archivo}\")\n",
    "\n",
    "class GraficadorNotebook:\n",
    "    def __init__(self, max_puntos=60):\n",
    "        self.max_puntos = max_puntos\n",
    "        self.tiempos = []\n",
    "        self.humedades = []\n",
    "\n",
    "    def actualizar(self, tiempo, humedad):\n",
    "        # Añade y recorta a max_puntos\n",
    "        self.tiempos.append(tiempo)\n",
    "        self.humedades.append(humedad)\n",
    "        if len(self.tiempos) > self.max_puntos:\n",
    "            self.tiempos.pop(0)\n",
    "            self.humedades.pop(0)\n",
    "\n",
    "        # Limpia la salida anterior y dibuja\n",
    "        clear_output(wait=True)\n",
    "        plt.figure(figsize=(8,4))\n",
    "        plt.plot(self.tiempos, self.humedades, marker='o')\n",
    "        plt.title(\"Humedad en tiempo real\")\n",
    "        plt.xlabel(\"Hora\")\n",
    "        plt.ylabel(\"Humedad (%)\")\n",
    "        plt.ylim(0, 100)\n",
    "        plt.xticks(rotation=45)\n",
    "        plt.tight_layout()\n",
    "        plt.show()"
   ]
  },
  {
   "cell_type": "code",
   "execution_count": 6,
   "id": "fb8db49c",
   "metadata": {},
   "outputs": [
    {
     "ename": "SerialException",
     "evalue": "could not open port 'COM7': OSError(22, 'Se agotó el tiempo de espera del semáforo.', None, 121)",
     "output_type": "error",
     "traceback": [
      "\u001b[31m---------------------------------------------------------------------------\u001b[39m",
      "\u001b[31mSerialException\u001b[39m                           Traceback (most recent call last)",
      "\u001b[36mCell\u001b[39m\u001b[36m \u001b[39m\u001b[32mIn[6]\u001b[39m\u001b[32m, line 5\u001b[39m\n\u001b[32m      3\u001b[39m DRY = \u001b[32m450\u001b[39m\n\u001b[32m      4\u001b[39m \u001b[38;5;66;03m# Inicializar componentes\u001b[39;00m\n\u001b[32m----> \u001b[39m\u001b[32m5\u001b[39m arduino = \u001b[43miniciar_arduino\u001b[49m\u001b[43m(\u001b[49m\u001b[33;43m'\u001b[39;49m\u001b[33;43mCOM7\u001b[39;49m\u001b[33;43m'\u001b[39;49m\u001b[43m,\u001b[49m\u001b[43m \u001b[49m\u001b[32;43m9600\u001b[39;49m\u001b[43m)\u001b[49m\n\u001b[32m      6\u001b[39m graf = GraficadorNotebook(max_puntos=\u001b[32m60\u001b[39m)\n\u001b[32m      7\u001b[39m guarda = GuardadorCSV()\n",
      "\u001b[36mCell\u001b[39m\u001b[36m \u001b[39m\u001b[32mIn[3]\u001b[39m\u001b[32m, line 4\u001b[39m, in \u001b[36miniciar_arduino\u001b[39m\u001b[34m(puerto, baudios)\u001b[39m\n\u001b[32m      2\u001b[39m \u001b[38;5;28;01mdef\u001b[39;00m\u001b[38;5;250m \u001b[39m\u001b[34miniciar_arduino\u001b[39m(puerto=\u001b[33m'\u001b[39m\u001b[33mCOM7\u001b[39m\u001b[33m'\u001b[39m, baudios=\u001b[32m9600\u001b[39m):\n\u001b[32m      3\u001b[39m \u001b[38;5;250m    \u001b[39m\u001b[33;03m\"\"\"Abre el puerto serie y espera para que Arduino inicie\"\"\"\u001b[39;00m\n\u001b[32m----> \u001b[39m\u001b[32m4\u001b[39m     arduino = \u001b[43mserial\u001b[49m\u001b[43m.\u001b[49m\u001b[43mSerial\u001b[49m\u001b[43m(\u001b[49m\u001b[43mpuerto\u001b[49m\u001b[43m,\u001b[49m\u001b[43m \u001b[49m\u001b[43mbaudios\u001b[49m\u001b[43m)\u001b[49m\n\u001b[32m      5\u001b[39m     time.sleep(\u001b[32m2\u001b[39m)\n\u001b[32m      6\u001b[39m     \u001b[38;5;28;01mreturn\u001b[39;00m arduino\n",
      "\u001b[36mFile \u001b[39m\u001b[32mc:\\Users\\Benjamin\\AppData\\Local\\Programs\\Python\\Python311\\Lib\\site-packages\\serial\\serialwin32.py:33\u001b[39m, in \u001b[36mSerial.__init__\u001b[39m\u001b[34m(self, *args, **kwargs)\u001b[39m\n\u001b[32m     31\u001b[39m \u001b[38;5;28mself\u001b[39m._overlapped_read = \u001b[38;5;28;01mNone\u001b[39;00m\n\u001b[32m     32\u001b[39m \u001b[38;5;28mself\u001b[39m._overlapped_write = \u001b[38;5;28;01mNone\u001b[39;00m\n\u001b[32m---> \u001b[39m\u001b[32m33\u001b[39m \u001b[38;5;28;43msuper\u001b[39;49m\u001b[43m(\u001b[49m\u001b[43mSerial\u001b[49m\u001b[43m,\u001b[49m\u001b[43m \u001b[49m\u001b[38;5;28;43mself\u001b[39;49m\u001b[43m)\u001b[49m\u001b[43m.\u001b[49m\u001b[34;43m__init__\u001b[39;49m\u001b[43m(\u001b[49m\u001b[43m*\u001b[49m\u001b[43margs\u001b[49m\u001b[43m,\u001b[49m\u001b[43m \u001b[49m\u001b[43m*\u001b[49m\u001b[43m*\u001b[49m\u001b[43mkwargs\u001b[49m\u001b[43m)\u001b[49m\n",
      "\u001b[36mFile \u001b[39m\u001b[32mc:\\Users\\Benjamin\\AppData\\Local\\Programs\\Python\\Python311\\Lib\\site-packages\\serial\\serialutil.py:244\u001b[39m, in \u001b[36mSerialBase.__init__\u001b[39m\u001b[34m(self, port, baudrate, bytesize, parity, stopbits, timeout, xonxoff, rtscts, write_timeout, dsrdtr, inter_byte_timeout, exclusive, **kwargs)\u001b[39m\n\u001b[32m    241\u001b[39m     \u001b[38;5;28;01mraise\u001b[39;00m \u001b[38;5;167;01mValueError\u001b[39;00m(\u001b[33m'\u001b[39m\u001b[33munexpected keyword arguments: \u001b[39m\u001b[38;5;132;01m{!r}\u001b[39;00m\u001b[33m'\u001b[39m.format(kwargs))\n\u001b[32m    243\u001b[39m \u001b[38;5;28;01mif\u001b[39;00m port \u001b[38;5;129;01mis\u001b[39;00m \u001b[38;5;129;01mnot\u001b[39;00m \u001b[38;5;28;01mNone\u001b[39;00m:\n\u001b[32m--> \u001b[39m\u001b[32m244\u001b[39m     \u001b[38;5;28;43mself\u001b[39;49m\u001b[43m.\u001b[49m\u001b[43mopen\u001b[49m\u001b[43m(\u001b[49m\u001b[43m)\u001b[49m\n",
      "\u001b[36mFile \u001b[39m\u001b[32mc:\\Users\\Benjamin\\AppData\\Local\\Programs\\Python\\Python311\\Lib\\site-packages\\serial\\serialwin32.py:64\u001b[39m, in \u001b[36mSerial.open\u001b[39m\u001b[34m(self)\u001b[39m\n\u001b[32m     62\u001b[39m \u001b[38;5;28;01mif\u001b[39;00m \u001b[38;5;28mself\u001b[39m._port_handle == win32.INVALID_HANDLE_VALUE:\n\u001b[32m     63\u001b[39m     \u001b[38;5;28mself\u001b[39m._port_handle = \u001b[38;5;28;01mNone\u001b[39;00m    \u001b[38;5;66;03m# 'cause __del__ is called anyway\u001b[39;00m\n\u001b[32m---> \u001b[39m\u001b[32m64\u001b[39m     \u001b[38;5;28;01mraise\u001b[39;00m SerialException(\u001b[33m\"\u001b[39m\u001b[33mcould not open port \u001b[39m\u001b[38;5;132;01m{!r}\u001b[39;00m\u001b[33m: \u001b[39m\u001b[38;5;132;01m{!r}\u001b[39;00m\u001b[33m\"\u001b[39m.format(\u001b[38;5;28mself\u001b[39m.portstr, ctypes.WinError()))\n\u001b[32m     66\u001b[39m \u001b[38;5;28;01mtry\u001b[39;00m:\n\u001b[32m     67\u001b[39m     \u001b[38;5;28mself\u001b[39m._overlapped_read = win32.OVERLAPPED()\n",
      "\u001b[31mSerialException\u001b[39m: could not open port 'COM7': OSError(22, 'Se agotó el tiempo de espera del semáforo.', None, 121)"
     ]
    }
   ],
   "source": [
    "# Parámetros de calibración\n",
    "WET = promedio_wet\n",
    "DRY = 450\n",
    "# Inicializar componentes\n",
    "arduino = iniciar_arduino('COM7', 9600)\n",
    "graf = GraficadorNotebook(max_puntos=60)\n",
    "guarda = GuardadorCSV()\n",
    "print(\"⏳ Leyendo datos (Ctrl+C para detener):\")\n",
    "\n",
    "try:\n",
    "    while True:\n",
    "        valor = leer_valor_crudo(arduino)\n",
    "        if valor is not None:\n",
    "            humedad = calcular_humedad(valor, WET, DRY)\n",
    "            hora = datetime.now().strftime(\"%H:%M:%S\")\n",
    "            print(f\"{hora} - Valor: {valor} → Humedad: {humedad}%\")\n",
    "            graf.actualizar(hora, humedad)\n",
    "            guarda.agregar(hora, humedad)\n",
    "        time.sleep(1)\n",
    "\n",
    "except KeyboardInterrupt:\n",
    "    guarda.guardar()\n",
    "    arduino.close()\n",
    "    print(\"🔚 Proceso finalizado.\")"
   ]
  }
 ],
 "metadata": {
  "kernelspec": {
   "display_name": "Python 3",
   "language": "python",
   "name": "python3"
  },
  "language_info": {
   "codemirror_mode": {
    "name": "ipython",
    "version": 3
   },
   "file_extension": ".py",
   "mimetype": "text/x-python",
   "name": "python",
   "nbconvert_exporter": "python",
   "pygments_lexer": "ipython3",
   "version": "3.11.8"
  }
 },
 "nbformat": 4,
 "nbformat_minor": 5
}
